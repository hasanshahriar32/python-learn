{
 "cells": [
  {
   "cell_type": "markdown",
   "metadata": {},
   "source": [
    "dictionaries at python is like json in javascript\n",
    "\n",
    "- dictionaries are key value pairs\n",
    "- dictionaries are mutable\n",
    "- but keys should be immutable \n",
    "    - reason is that keys are used to hash the values (hence it uses hash function)\n",
    "    - if keys are mutable, then the hash value will change\n",
    "- values can be mutable"
   ]
  }
 ],
 "metadata": {
  "kernelspec": {
   "display_name": "env",
   "language": "python",
   "name": "python3"
  },
  "language_info": {
   "name": "python",
   "version": "3.11.4"
  }
 },
 "nbformat": 4,
 "nbformat_minor": 2
}
