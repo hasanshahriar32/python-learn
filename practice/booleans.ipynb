{
 "cells": [
  {
   "cell_type": "markdown",
   "metadata": {},
   "source": [
    "- in python the truthyness are for a particular type\n",
    "- e.g. the falsy values are `None`, `False`, `0`, `0.0`, `0j`, `Decimal(0)`, `Fraction(0, 1)`, `[]`, `()`, `{}`, `set()`, `range(0), empty range`, `''`\n",
    "\n",
    "### the truthyness of a type can be checked by `bool()` function\n",
    "more e.g.\n",
    "- `bool(0) == False`\n",
    "- `bool[] == False`\n",
    "- `bool('') == False`\n",
    "- `bool({}) == False`\n",
    "- `bool(set()) == False`\n",
    "- `bool(None) == False`\n",
    "\n",
    "the rest of the values are truthy\n",
    "- `bool(1) == True`\n",
    "- `bool('a') == True`\n",
    "- `bool([1]) == True`\n",
    "- `bool({1}) == True`\n",
    "- `bool({1: 1}) == True`\n",
    "\n",
    "\n",
    "## comparision\n",
    "- `==` is used to compare the values of the objects\n",
    "- `is` is used to compare the memory location of the objects\n",
    "- when comparing, similar types are compared\n",
    "- the comparison is comparing the ascii value of the characters\n",
    "- the case of the characters are also compared\n",
    "\n",
    "\n",
    "* quality == !=\n",
    "* identity is keyword\n",
    "* just two value are same does not mean they are identical. with is keyword we also check whether they are located in same memory location or not\n",
    "\n",
    "\n"
   ]
  },
  {
   "cell_type": "code",
   "execution_count": 1,
   "metadata": {},
   "outputs": [
    {
     "data": {
      "text/plain": [
       "False"
      ]
     },
     "execution_count": 1,
     "metadata": {},
     "output_type": "execute_result"
    }
   ],
   "source": [
    "# not operation\n",
    "\n",
    "a= None\n",
    "a is not None"
   ]
  },
  {
   "cell_type": "code",
   "execution_count": 2,
   "metadata": {},
   "outputs": [
    {
     "data": {
      "text/plain": [
       "True"
      ]
     },
     "execution_count": 2,
     "metadata": {},
     "output_type": "execute_result"
    }
   ],
   "source": [
    "# and, or, not\n",
    "\n",
    "a= True\n",
    "b= True\n",
    "a is b"
   ]
  },
  {
   "cell_type": "code",
   "execution_count": 5,
   "metadata": {},
   "outputs": [
    {
     "data": {
      "text/plain": [
       "False"
      ]
     },
     "execution_count": 5,
     "metadata": {},
     "output_type": "execute_result"
    }
   ],
   "source": [
    "# this and operation is boolean and operation\n",
    "a= True\n",
    "b= False\n",
    "a and b"
   ]
  },
  {
   "cell_type": "code",
   "execution_count": 6,
   "metadata": {},
   "outputs": [
    {
     "data": {
      "text/plain": [
       "True"
      ]
     },
     "execution_count": 6,
     "metadata": {},
     "output_type": "execute_result"
    }
   ],
   "source": [
    "\n",
    "a= True\n",
    "b= False\n",
    "a or b"
   ]
  },
  {
   "cell_type": "code",
   "execution_count": 7,
   "metadata": {},
   "outputs": [
    {
     "data": {
      "text/plain": [
       "[]"
      ]
     },
     "execution_count": 7,
     "metadata": {},
     "output_type": "execute_result"
    }
   ],
   "source": [
    "[]  and {}"
   ]
  },
  {
   "cell_type": "code",
   "execution_count": 10,
   "metadata": {},
   "outputs": [
    {
     "data": {
      "text/plain": [
       "[]"
      ]
     },
     "execution_count": 10,
     "metadata": {},
     "output_type": "execute_result"
    }
   ],
   "source": [
    "{1} and []\n",
    "# here [] is false\n",
    "# {1} is true\n",
    "# finally the and operation returns false"
   ]
  }
 ],
 "metadata": {
  "kernelspec": {
   "display_name": "env",
   "language": "python",
   "name": "python3"
  },
  "language_info": {
   "codemirror_mode": {
    "name": "ipython",
    "version": 3
   },
   "file_extension": ".py",
   "mimetype": "text/x-python",
   "name": "python",
   "nbconvert_exporter": "python",
   "pygments_lexer": "ipython3",
   "version": "3.11.4"
  }
 },
 "nbformat": 4,
 "nbformat_minor": 2
}
